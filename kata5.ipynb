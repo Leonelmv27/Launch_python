{
 "cells": [
  {
   "cell_type": "markdown",
   "metadata": {},
   "source": [
    "Exploremos cómo podemos crear un programa que pueda calcular la distancia entre dos planetas. Comenzaremos usando dos distancias de planetas: Tierra (149.597.870 km) y Júpiter (778.547.200 km)."
   ]
  },
  {
   "cell_type": "code",
   "execution_count": 5,
   "metadata": {},
   "outputs": [
    {
     "name": "stdout",
     "output_type": "stream",
     "text": [
      "628949330\n",
      "39057753.393\n"
     ]
    }
   ],
   "source": [
    "tierra=149597870\n",
    "Júpiter=778547200 \n",
    "\n",
    "distancia=Júpiter-tierra\n",
    "print(distancia)\n",
    "\n",
    "distanciamilla=(distancia*.0621)\n",
    "print(distanciamilla)\n"
   ]
  },
  {
   "cell_type": "markdown",
   "metadata": {},
   "source": [
    "Crear una aplicación para trabajar con números y entrada de usuario\n",
    "Con frecuencia, deberás convertir los valores de cadena en números para realizar correctamente diferentes operaciones o determinar el valor absoluto de un número.\n",
    "\n",
    "Para crear nuestra aplicación, queremos leer la distancia del sol para dos planetas, y luego mostrar la distancia entre los planetas. Haremos esto usando input para leer los valores, int para convertir a entero y luego abs para convertir el resultado en su valor absoluto."
   ]
  },
  {
   "cell_type": "markdown",
   "metadata": {},
   "source": [
    "primer_p=intput('Introduce el valor distacia del primerplaneta  al  sol ')"
   ]
  },
  {
   "cell_type": "code",
   "execution_count": 10,
   "metadata": {},
   "outputs": [
    {
     "name": "stdout",
     "output_type": "stream",
     "text": [
      "1\n",
      "0.621\n"
     ]
    }
   ],
   "source": [
    "primer_p=input('Introduce el valor distacia del primer planeta  al  sol ')\n",
    "segundo_p=input('Introduce el valor distacia del segundo planeta  al  sol ')\n",
    "#convertir valores de entrada a numeros int\n",
    "\n",
    "primer_p=int(primer_p)\n",
    "segundo_p=int(segundo_p)\n",
    "\n",
    "#sacar la distancia y convertirlo a valor absoluto\n",
    "distancia_planeta=segundo_p-primer_p\n",
    "print(distancia_planeta)\n",
    "\n",
    "distancia_milla=distancia_planeta*.621\n",
    "print(abs(distancia_milla))"
   ]
  }
 ],
 "metadata": {
  "interpreter": {
   "hash": "71be35f8d79f35bc1a881f710317339f5e9a4227b7ef3f2c82c2ce889b28139c"
  },
  "kernelspec": {
   "display_name": "Python 3.10.2 64-bit",
   "language": "python",
   "name": "python3"
  },
  "language_info": {
   "codemirror_mode": {
    "name": "ipython",
    "version": 3
   },
   "file_extension": ".py",
   "mimetype": "text/x-python",
   "name": "python",
   "nbconvert_exporter": "python",
   "pygments_lexer": "ipython3",
   "version": "3.10.2"
  },
  "orig_nbformat": 4
 },
 "nbformat": 4,
 "nbformat_minor": 2
}
