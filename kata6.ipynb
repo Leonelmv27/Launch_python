{
 "cells": [
  {
   "cell_type": "markdown",
   "metadata": {},
   "source": [
    "Ejercicio: Usar listas para almacenar nombres de planetas\n",
    "Las listas permiten almacenar varios valores en una sola variable. Comenzarás un proyecto sobre información planetaria creando una lista de planetas.\n",
    "\n",
    "En primer lugar, crea una variable denominada planets. Agrega los ocho planetas (sin Plutón) a la lista. A continuación, muestra el número de planetas.\n",
    "\n",
    "Agrega a Plutón a la lista que creaste. Luego muestra tanto el número de planetas como el último planeta de la lista."
   ]
  },
  {
   "cell_type": "code",
   "execution_count": 11,
   "metadata": {},
   "outputs": [
    {
     "name": "stdout",
     "output_type": "stream",
     "text": [
      "Estos son los planetas que  hay  8 planetas\n",
      "Pluton ultimo planeta del sistema solar.\n"
     ]
    }
   ],
   "source": [
    "planetas = ['Mercurio', 'Venus', 'tierra', 'Marte', 'Jupiter', 'Saturo', 'Uranio', 'Nepturno']\n",
    "print('Estos son los planetas que  hay ',len(planetas), 'planetas')\n",
    "\n",
    "\n",
    "planetas.append('Pluton')\n",
    "print( planetas[-1], 'ultimo planeta del sistema solar.')"
   ]
  },
  {
   "cell_type": "markdown",
   "metadata": {},
   "source": [
    "Usar slices para recuperar partes de una lista\n",
    "Es posible que debas trabajar con diferentes secciones de una lista. En nuestro ejemplo, queremos mostrar planetas más cerca y más lejos del sol de un planeta que el usuario ingresa por teclado.\n",
    "\n",
    "Comienza agregando el código para crear una lista con los planetas."
   ]
  },
  {
   "cell_type": "code",
   "execution_count": 5,
   "metadata": {},
   "outputs": [
    {
     "name": "stdout",
     "output_type": "stream",
     "text": [
      "planeta mas cerca Mercurio\n",
      "[]\n",
      "planeta mas  alejado Mercurio\n",
      "['Venus', 'tierra', 'Marte', 'Jupiter', 'Saturno', 'Uranio', 'Nepturno']\n"
     ]
    }
   ],
   "source": [
    "planetas = ['Mercurio', 'Venus', 'tierra', 'Marte', 'Jupiter', 'Saturno', 'Uranio', 'Nepturno']\n",
    "planeta_agregado = input('Introduzca el planeta')\n",
    "#buscar\n",
    "p_index=planetas.index(planeta_agregado)\n",
    "\n",
    "print('planeta mas cerca ' + planeta_agregado)\n",
    "print(planetas[0:p_index])\n",
    "\n",
    "\n",
    "print('planeta mas  alejado ' + planeta_agregado)\n",
    "print(planetas[p_index + 1:])"
   ]
  }
 ],
 "metadata": {
  "interpreter": {
   "hash": "71be35f8d79f35bc1a881f710317339f5e9a4227b7ef3f2c82c2ce889b28139c"
  },
  "kernelspec": {
   "display_name": "Python 3.10.2 64-bit",
   "language": "python",
   "name": "python3"
  },
  "language_info": {
   "codemirror_mode": {
    "name": "ipython",
    "version": 3
   },
   "file_extension": ".py",
   "mimetype": "text/x-python",
   "name": "python",
   "nbconvert_exporter": "python",
   "pygments_lexer": "ipython3",
   "version": "3.10.2"
  },
  "orig_nbformat": 4
 },
 "nbformat": 4,
 "nbformat_minor": 2
}
