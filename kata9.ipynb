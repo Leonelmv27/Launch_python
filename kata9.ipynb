{
 "cells": [
  {
   "cell_type": "code",
   "execution_count": 12,
   "metadata": {},
   "outputs": [
    {
     "name": "stdout",
     "output_type": "stream",
     "text": [
      "Reporte combustibles:\n",
      "    Total Promedio: 40.0%\n",
      "    tanque1: 30%\n",
      "    tanque2: 40%\n",
      "    tanque3: 50% \n",
      "    \n",
      "Reporte combustibles:\n",
      "    Total Promedio: 78.0%\n",
      "    tanque1: 88%\n",
      "    tanque2: 76%\n",
      "    tanque3: 70% \n",
      "    \n"
     ]
    }
   ],
   "source": [
    "def reporte_cohete(tanque1,tanque2,tanque3):\n",
    "    total_prom=(tanque1+tanque2+tanque3)/3\n",
    "    return f\"\"\"Reporte combustibles:\n",
    "    Total Promedio: {total_prom}%\n",
    "    tanque1: {tanque1}%\n",
    "    tanque2: {tanque2}%\n",
    "    tanque3: {tanque3}% \n",
    "    \"\"\"\n",
    "\n",
    "print(reporte_cohete(30,40,50))\n",
    "\n",
    "# Función promedio \n",
    "def prom(values):\n",
    "    total = sum(values)\n",
    "    numero_tanques = len(values)\n",
    "    return total / numero_tanques\n",
    "\n",
    "# datos\n",
    "prom([46,52,48])\n",
    "\n",
    "def reporte_cohete(tanque1,tanque2,tanque3):\n",
    "    return f\"\"\"Reporte combustibles:\n",
    "    Total Promedio: {prom([tanque1,tanque2,tanque3])}%\n",
    "    tanque1: {tanque1}%\n",
    "    tanque2: {tanque2}%\n",
    "    tanque3: {tanque3}% \n",
    "    \"\"\"\n",
    "\n",
    "# Call the updated function again with different values\n",
    "print(reporte_cohete(88, 76, 70))\n",
    " \n"
   ]
  },
  {
   "cell_type": "markdown",
   "metadata": {},
   "source": [
    "En este ejercicio, construirás un informe de cohete que requiere varias piezas de información, como el tiempo hasta el destino, el combustible a la izquierda y el nombre del destino. Comienza por crear una función que creará un informe preciso de la misión:"
   ]
  },
  {
   "cell_type": "code",
   "execution_count": 22,
   "metadata": {},
   "outputs": [
    {
     "name": "stdout",
     "output_type": "stream",
     "text": [
      "Viaje:\n",
      "    Viaje espacio: luna\n",
      "    Tiempo total del  viaje  51 minutos\n",
      "    Total de 829900 combustible \n",
      "    \n",
      "\n",
      "    Viaje espacio Luna\n",
      "    Tiempo total del  viaje : 45 minutos\n",
      "    Total de combustible : 909900\n",
      "    \n"
     ]
    }
   ],
   "source": [
    "def reporte_cohete2(hora_prelanzamiento,tiempo_recorrido,tanque_interno,tanque_externo,nombredestino):\n",
    "    \n",
    "    return f\"\"\"Viaje:\n",
    "    Viaje espacio: {nombredestino}\n",
    "    Tiempo total del  viaje  {hora_prelanzamiento+tiempo_recorrido} minutos\n",
    "    Total de {tanque_interno+tanque_externo} combustible \n",
    "    \"\"\"\n",
    "print(reporte_cohete2(20, 31,206900, 623000,\"luna\"))\n",
    "\n",
    "def reporte_c(destino, *minutes, **fuel_reservoirs):\n",
    "    return f\"\"\"\n",
    "    Viaje espacio {destino}\n",
    "    Tiempo total del  viaje : {sum(minutes)} minutos\n",
    "    Total de combustible : {sum(fuel_reservoirs.values())}\n",
    "    \"\"\"\n",
    "\n",
    "print(reporte_c(\"Luna\", 10, 21, 14, t_in=109900,t_ex=800000))\n",
    "\n",
    "#nueva funcion\n",
    "def mission_report(destination, *minutes, **fuel_reservoirs):\n",
    "    main_report = f\"\"\"\n",
    "    Mission to {destination}\n",
    "    Total travel time: {sum(minutes)} minutes\n",
    "    Total fuel left: {sum(fuel_reservoirs.values())}\n",
    "    \"\"\"\n",
    "    for tank_name, gallons in fuel_reservoirs.items():\n",
    "        main_report += f\"{tank_name} tank --> {gallons} gallons left\\n\"\n",
    "    return main_report\n",
    "\n",
    "print(mission_report(\"Moon\", 8, 11, 55, main=300000, external=200000))"
   ]
  }
 ],
 "metadata": {
  "interpreter": {
   "hash": "71be35f8d79f35bc1a881f710317339f5e9a4227b7ef3f2c82c2ce889b28139c"
  },
  "kernelspec": {
   "display_name": "Python 3.10.2 64-bit",
   "language": "python",
   "name": "python3"
  },
  "language_info": {
   "codemirror_mode": {
    "name": "ipython",
    "version": 3
   },
   "file_extension": ".py",
   "mimetype": "text/x-python",
   "name": "python",
   "nbconvert_exporter": "python",
   "pygments_lexer": "ipython3",
   "version": "3.10.2"
  },
  "orig_nbformat": 4
 },
 "nbformat": 4,
 "nbformat_minor": 2
}
